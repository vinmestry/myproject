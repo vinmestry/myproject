{
 "cells": [
  {
   "cell_type": "markdown",
   "metadata": {},
   "source": [
    "# PCA "
   ]
  },
  {
   "cell_type": "code",
   "execution_count": 1,
   "metadata": {},
   "outputs": [],
   "source": [
    "# Importing the libraries\n",
    "import numpy as np\n",
    "import matplotlib.pyplot as plt\n",
    "import pandas as pd\n",
    "from sklearn import datasetsf"
   ]
  },
  {
   "cell_type": "code",
   "execution_count": null,
   "metadata": {},
   "outputs": [],
   "source": [
    "dir(datasets)"
   ]
  },
  {
   "cell_type": "code",
   "execution_count": 2,
   "metadata": {},
   "outputs": [],
   "source": [
    "df = datasets.load_iris()\n",
    "#df.data #independent variables\n",
    "#df.target #dependent variable\n",
    "#df.feature_names #column headers\n",
    "# print(df.DESCR) #dataset description"
   ]
  },
  {
   "cell_type": "code",
   "execution_count": 3,
   "metadata": {
    "collapsed": true
   },
   "outputs": [
    {
     "data": {
      "text/plain": [
       "dict_keys(['data', 'target', 'frame', 'target_names', 'DESCR', 'feature_names', 'filename', 'data_module'])"
      ]
     },
     "execution_count": 3,
     "metadata": {},
     "output_type": "execute_result"
    }
   ],
   "source": [
    "df.keys()"
   ]
  },
  {
   "cell_type": "code",
   "execution_count": 5,
   "metadata": {
    "collapsed": true
   },
   "outputs": [
    {
     "data": {
      "text/plain": [
       "['sepal length (cm)',\n",
       " 'sepal width (cm)',\n",
       " 'petal length (cm)',\n",
       " 'petal width (cm)']"
      ]
     },
     "execution_count": 5,
     "metadata": {},
     "output_type": "execute_result"
    }
   ],
   "source": [
    "df.feature_names"
   ]
  },
  {
   "cell_type": "code",
   "execution_count": 6,
   "metadata": {
    "collapsed": true
   },
   "outputs": [
    {
     "data": {
      "text/html": [
       "<div>\n",
       "<style scoped>\n",
       "    .dataframe tbody tr th:only-of-type {\n",
       "        vertical-align: middle;\n",
       "    }\n",
       "\n",
       "    .dataframe tbody tr th {\n",
       "        vertical-align: top;\n",
       "    }\n",
       "\n",
       "    .dataframe thead th {\n",
       "        text-align: right;\n",
       "    }\n",
       "</style>\n",
       "<table border=\"1\" class=\"dataframe\">\n",
       "  <thead>\n",
       "    <tr style=\"text-align: right;\">\n",
       "      <th></th>\n",
       "      <th>sepal length (cm)</th>\n",
       "      <th>sepal width (cm)</th>\n",
       "      <th>petal length (cm)</th>\n",
       "      <th>petal width (cm)</th>\n",
       "      <th>Target</th>\n",
       "    </tr>\n",
       "  </thead>\n",
       "  <tbody>\n",
       "    <tr>\n",
       "      <th>0</th>\n",
       "      <td>5.1</td>\n",
       "      <td>3.5</td>\n",
       "      <td>1.4</td>\n",
       "      <td>0.2</td>\n",
       "      <td>0</td>\n",
       "    </tr>\n",
       "    <tr>\n",
       "      <th>1</th>\n",
       "      <td>4.9</td>\n",
       "      <td>3.0</td>\n",
       "      <td>1.4</td>\n",
       "      <td>0.2</td>\n",
       "      <td>0</td>\n",
       "    </tr>\n",
       "    <tr>\n",
       "      <th>2</th>\n",
       "      <td>4.7</td>\n",
       "      <td>3.2</td>\n",
       "      <td>1.3</td>\n",
       "      <td>0.2</td>\n",
       "      <td>0</td>\n",
       "    </tr>\n",
       "    <tr>\n",
       "      <th>3</th>\n",
       "      <td>4.6</td>\n",
       "      <td>3.1</td>\n",
       "      <td>1.5</td>\n",
       "      <td>0.2</td>\n",
       "      <td>0</td>\n",
       "    </tr>\n",
       "    <tr>\n",
       "      <th>4</th>\n",
       "      <td>5.0</td>\n",
       "      <td>3.6</td>\n",
       "      <td>1.4</td>\n",
       "      <td>0.2</td>\n",
       "      <td>0</td>\n",
       "    </tr>\n",
       "  </tbody>\n",
       "</table>\n",
       "</div>"
      ],
      "text/plain": [
       "   sepal length (cm)  sepal width (cm)  petal length (cm)  petal width (cm)  \\\n",
       "0                5.1               3.5                1.4               0.2   \n",
       "1                4.9               3.0                1.4               0.2   \n",
       "2                4.7               3.2                1.3               0.2   \n",
       "3                4.6               3.1                1.5               0.2   \n",
       "4                5.0               3.6                1.4               0.2   \n",
       "\n",
       "   Target  \n",
       "0       0  \n",
       "1       0  \n",
       "2       0  \n",
       "3       0  \n",
       "4       0  "
      ]
     },
     "execution_count": 6,
     "metadata": {},
     "output_type": "execute_result"
    }
   ],
   "source": [
    "a = pd.DataFrame(df.data, columns=df.feature_names)\n",
    "a[\"Target\"] = df.target\n",
    "a.head()"
   ]
  },
  {
   "cell_type": "code",
   "execution_count": null,
   "metadata": {},
   "outputs": [],
   "source": [
    "df.target_names"
   ]
  },
  {
   "cell_type": "code",
   "execution_count": 7,
   "metadata": {
    "collapsed": true
   },
   "outputs": [
    {
     "data": {
      "text/plain": [
       "(150, 5)"
      ]
     },
     "execution_count": 7,
     "metadata": {},
     "output_type": "execute_result"
    }
   ],
   "source": [
    "a.shape"
   ]
  },
  {
   "cell_type": "code",
   "execution_count": 8,
   "metadata": {},
   "outputs": [],
   "source": [
    "X=df.data\n",
    "Y=df.target"
   ]
  },
  {
   "cell_type": "code",
   "execution_count": 9,
   "metadata": {
    "collapsed": true
   },
   "outputs": [
    {
     "data": {
      "text/plain": [
       "(150, 4)"
      ]
     },
     "execution_count": 9,
     "metadata": {},
     "output_type": "execute_result"
    }
   ],
   "source": [
    "X.shape"
   ]
  },
  {
   "cell_type": "code",
   "execution_count": 10,
   "metadata": {},
   "outputs": [],
   "source": [
    "# Splitting the dataset into the Training set and Test set\n",
    "from sklearn.model_selection import train_test_split\n",
    "X_train, X_test, Y_train, Y_test = train_test_split(X,Y,random_state=10)"
   ]
  },
  {
   "cell_type": "code",
   "execution_count": 11,
   "metadata": {},
   "outputs": [],
   "source": [
    "# Feature Scaling\n",
    "from sklearn.preprocessing import StandardScaler\n",
    "scaler = StandardScaler()\n",
    "X_train = scaler.fit_transform(X_train)\n",
    "X_test = scaler.transform(X_test)"
   ]
  },
  {
   "cell_type": "code",
   "execution_count": 12,
   "metadata": {
    "collapsed": true
   },
   "outputs": [
    {
     "name": "stdout",
     "output_type": "stream",
     "text": [
      "[0.73055142 0.22675973 0.03766536 0.00502349]\n"
     ]
    }
   ],
   "source": [
    "# Applying PCA\n",
    "from sklearn.decomposition import PCA\n",
    "\n",
    "pca = PCA(n_components = None) #to view the entire eigen vector,no subsetting\n",
    "\n",
    "X_train1 = pca.fit_transform(X_train)\n",
    "X_test1 = pca.transform(X_test)\n",
    "explained_variance = pca.explained_variance_ratio_\n",
    "print(explained_variance) # how much of variablity in the data can be explained by each principal component"
   ]
  },
  {
   "cell_type": "code",
   "execution_count": 13,
   "metadata": {
    "collapsed": true
   },
   "outputs": [
    {
     "data": {
      "text/plain": [
       "0.9999999999999999"
      ]
     },
     "execution_count": 13,
     "metadata": {},
     "output_type": "execute_result"
    }
   ],
   "source": [
    "sum(explained_variance)"
   ]
  },
  {
   "cell_type": "code",
   "execution_count": null,
   "metadata": {},
   "outputs": [],
   "source": [
    "X_train1"
   ]
  },
  {
   "cell_type": "code",
   "execution_count": 33,
   "metadata": {},
   "outputs": [
    {
     "name": "stdout",
     "output_type": "stream",
     "text": [
      "[0.73055142 0.22675973 0.03766536]\n"
     ]
    }
   ],
   "source": [
    "# Applying PCA\n",
    "from sklearn.decomposition import PCA\n",
    "pca = PCA(n_components = 3)\n",
    "X_train1 = pca.fit_transform(X_train)\n",
    "X_test1 = pca.transform(X_test)\n",
    "explained_variance = pca.explained_variance_ratio_\n",
    "print(explained_variance)"
   ]
  },
  {
   "cell_type": "code",
   "execution_count": 35,
   "metadata": {},
   "outputs": [
    {
     "data": {
      "text/plain": [
       "0.9949765125893878"
      ]
     },
     "execution_count": 35,
     "metadata": {},
     "output_type": "execute_result"
    }
   ],
   "source": [
    "sum(explained_variance)"
   ]
  },
  {
   "cell_type": "code",
   "execution_count": 36,
   "metadata": {},
   "outputs": [
    {
     "data": {
      "text/plain": [
       "(112, 3)"
      ]
     },
     "execution_count": 36,
     "metadata": {},
     "output_type": "execute_result"
    }
   ],
   "source": [
    "X_train1.shape"
   ]
  },
  {
   "cell_type": "code",
   "execution_count": 37,
   "metadata": {},
   "outputs": [
    {
     "data": {
      "text/plain": [
       "array([[ 3.30180845e+00,  1.73195944e-02, -6.97240045e-01],\n",
       "       [ 1.90723199e+00,  6.58781505e-01,  1.26540623e-01],\n",
       "       [-1.98631341e+00,  1.72886626e-01,  8.36242182e-02],\n",
       "       [-1.90277699e+00,  3.99063903e-01,  3.04665246e-01],\n",
       "       [ 5.76162266e-02, -1.06494650e+00,  5.21818459e-01],\n",
       "       [-1.77366979e+00, -2.35706075e+00, -2.23298524e-01],\n",
       "       [ 7.67025994e-01,  7.23244188e-01,  1.50254060e-01],\n",
       "       [-2.55564946e+00,  1.69014252e+00,  5.84666297e-02],\n",
       "       [ 1.25620830e+00,  5.81830727e-01, -5.45288109e-01],\n",
       "       [ 7.61301126e-01,  3.48517455e-01,  6.09015808e-01],\n",
       "       [ 1.00647482e+00, -6.02128554e-01,  8.10029853e-01],\n",
       "       [ 1.99866713e+00,  1.00643181e+00,  6.26880661e-01],\n",
       "       [ 1.25982658e+00, -1.61844052e+00, -4.92207712e-01],\n",
       "       [ 2.24914569e+00,  1.86783967e+00,  4.02193266e-01],\n",
       "       [ 7.43964145e-02, -1.58706657e+00, -2.52137194e-01],\n",
       "       [ 6.95038294e-01, -2.59043473e-01,  8.05462281e-02],\n",
       "       [ 7.53765094e-01,  5.50656860e-01, -9.15665798e-02],\n",
       "       [-2.14521408e+00,  1.76871720e+00, -4.57781406e-01],\n",
       "       [-2.16849594e+00,  9.15974139e-01, -1.74648360e-01],\n",
       "       [ 7.48612912e-01, -2.19120999e-01, -7.06183634e-02],\n",
       "       [-1.85268404e+00,  3.42530516e-01, -4.15697306e-01],\n",
       "       [ 1.36111434e+00,  3.83404801e-01,  1.80342415e-01],\n",
       "       [-2.19263389e+00, -4.01117781e-01,  6.32409637e-02],\n",
       "       [-2.22402447e+00, -6.56670315e-01,  8.36051535e-02],\n",
       "       [ 4.12354739e-01, -1.58497700e+00,  9.60987712e-01],\n",
       "       [-3.90227934e-01, -1.56588832e+00,  1.72455344e-01],\n",
       "       [ 2.01892899e+00,  5.80767606e-01,  4.22122968e-01],\n",
       "       [-2.45892554e+00,  5.10843581e-01,  2.17408894e-02],\n",
       "       [ 1.85807442e+00,  6.43876204e-01, -1.21937341e-02],\n",
       "       [-1.99637604e+00, -7.62644824e-01, -7.20557164e-02],\n",
       "       [ 2.82639072e-01, -8.03028018e-01, -1.57796648e-01],\n",
       "       [ 1.08902443e+00, -6.57424115e-01,  9.80166803e-02],\n",
       "       [-2.47577912e+00, -5.45099895e-01,  2.96109134e-01],\n",
       "       [ 2.04196912e+00,  8.29486402e-01,  3.36566289e-01],\n",
       "       [ 2.28768990e+00,  2.56741666e+00, -4.69502480e-01],\n",
       "       [ 1.48603058e+00,  2.22602517e-01,  3.71117791e-02],\n",
       "       [ 2.74402113e+00,  7.78465105e-01, -5.71064438e-01],\n",
       "       [ 1.13854469e+00, -3.18906376e-01, -1.84532340e-01],\n",
       "       [-2.37219084e+00, -2.59232630e-02,  3.28922623e-01],\n",
       "       [ 7.35089316e-03, -1.08091281e+00, -3.26263088e-01],\n",
       "       [ 2.02220655e+00, -7.17964060e-01, -3.96076957e-01],\n",
       "       [ 2.95899971e-01, -6.30440690e-01,  8.40239922e-02],\n",
       "       [-2.03824926e+00, -5.16401681e-01, -1.74311153e-01],\n",
       "       [ 1.80233588e+00, -2.10104687e-01,  2.62589934e-01],\n",
       "       [ 1.11696507e+00,  8.24360390e-01, -6.72591682e-01],\n",
       "       [ 2.65365478e-01, -4.21644368e-01,  1.49631905e-01],\n",
       "       [-2.32373667e+00,  5.66909183e-01,  1.76600341e-02],\n",
       "       [-2.02111227e+00,  1.39894178e+00,  3.43778563e-02],\n",
       "       [-2.07898298e+00,  1.05359030e+00,  2.51734387e-01],\n",
       "       [ 2.60496697e-01, -3.32022245e-01,  6.53637375e-01],\n",
       "       [ 2.43734237e+00,  2.45027777e-01, -7.19166688e-01],\n",
       "       [ 1.45762826e+00, -7.72305749e-02,  1.60146829e-01],\n",
       "       [ 8.97877100e-01,  2.18505074e-01, -4.68268477e-01],\n",
       "       [-2.16529767e+00,  1.53030018e-01, -8.85076544e-02],\n",
       "       [-2.32288058e+00,  1.03125804e+00,  6.29037567e-02],\n",
       "       [-2.12555664e+00,  4.15416289e-01, -4.36793548e-02],\n",
       "       [ 1.87645576e+00,  2.63553559e-01,  3.89724903e-01],\n",
       "       [ 1.18496567e+00, -7.23008365e-01,  5.15634625e-01],\n",
       "       [ 5.11143590e-01, -4.44653671e-01, -2.68213795e-01],\n",
       "       [ 1.80116879e-01, -1.57651936e+00, -1.61896568e-01],\n",
       "       [ 1.37674916e+00,  6.51386984e-01,  2.82013825e-01],\n",
       "       [ 1.53518816e+00,  2.37507819e-01,  1.75846137e-01],\n",
       "       [ 9.84653462e-01, -6.28860571e-02,  5.19546877e-01],\n",
       "       [ 1.22969643e+00, -8.30656048e-01, -1.67249555e-01],\n",
       "       [ 7.31297654e-01, -9.31130620e-02, -4.43823432e-01],\n",
       "       [-2.07390420e+00,  2.45304614e-01, -2.68801238e-01],\n",
       "       [-2.25669115e+00,  6.07554220e-02,  9.17859288e-02],\n",
       "       [ 3.29422732e-01, -8.83517571e-01,  1.21086940e-01],\n",
       "       [-1.75567671e+00,  2.26315587e-02,  3.06342080e-02],\n",
       "       [-2.70126364e+00,  3.74933032e-01,  3.28150928e-01],\n",
       "       [ 1.04359027e+00,  2.81507125e-02,  3.30903915e-01],\n",
       "       [-3.02064464e-01, -2.03335743e+00,  8.70672686e-02],\n",
       "       [-1.84560968e+00,  1.32234252e+00, -3.62688231e-01],\n",
       "       [-2.10443869e+00,  4.54100937e-01, -2.03193325e-01],\n",
       "       [-1.98357681e+00,  5.91893917e-01, -4.77808389e-01],\n",
       "       [-4.26980700e-01, -1.87255515e+00,  2.30297904e-01],\n",
       "       [-1.77106979e+00,  3.58673645e-01, -2.68613569e-01],\n",
       "       [ 8.96811010e-01,  4.72819781e-01, -4.96982046e-01],\n",
       "       [-2.14290363e+00, -7.81263605e-01, -2.35838210e-01],\n",
       "       [ 3.28566645e-01, -1.34786643e+00,  7.58432169e-02],\n",
       "       [ 1.29825978e+00, -1.70576381e+00, -2.78516613e-01],\n",
       "       [-2.06771766e+00, -5.61920065e-01, -7.99896721e-02],\n",
       "       [ 1.06744481e+00,  4.85842651e-01, -3.90042662e-01],\n",
       "       [ 3.78086905e-01, -1.00934869e+00, -2.06705803e-01],\n",
       "       [ 1.38215301e+00,  9.57876993e-01,  9.25169076e-01],\n",
       "       [-1.88087635e+00, -6.75966139e-01, -3.09192410e-01],\n",
       "       [ 9.49208524e-01, -1.98433253e-02,  4.08526639e-01],\n",
       "       [-2.54989900e+00, -1.01875814e+00,  1.68974164e-01],\n",
       "       [ 2.11507458e-01, -1.32096682e+00, -1.82260758e-01],\n",
       "       [ 1.37433358e+00,  3.00616416e-01, -2.58470566e-01],\n",
       "       [ 2.79019044e+00,  8.37650965e-01, -5.35000940e-01],\n",
       "       [ 1.58225522e+00,  1.01641825e+00,  9.37786978e-01],\n",
       "       [-2.39205828e+00,  2.04604121e+00, -6.86492751e-02],\n",
       "       [ 6.07374112e-01, -1.76468903e+00, -7.71466636e-01],\n",
       "       [ 2.89112140e+00,  4.02032761e-01, -8.45095475e-01],\n",
       "       [ 2.30407568e+00,  3.98996324e-01, -6.41128542e-01],\n",
       "       [ 1.07992573e-01, -2.62079910e-01,  2.84513162e-01],\n",
       "       [ 1.10011149e+00, -2.31583086e-01, -3.98223438e-01],\n",
       "       [ 1.84833685e+00,  8.23120449e-01,  9.95817206e-01],\n",
       "       [-2.15093895e+00,  1.39399047e+00,  9.80341233e-04],\n",
       "       [ 1.59952881e+00,  6.35034598e-01,  6.30358426e-01],\n",
       "       [-2.21993838e+00,  3.67422252e-01,  3.39433686e-02],\n",
       "       [-2.19882043e+00,  4.06106899e-01, -1.25570602e-01],\n",
       "       [ 6.65076486e-01, -4.45298276e-01, -2.91659391e-01],\n",
       "       [-2.25434896e+00, -1.16653756e+00,  1.32682912e-01],\n",
       "       [ 1.87882968e+00,  3.58948413e-01,  2.49575673e-01],\n",
       "       [ 1.35641390e+00, -5.01012352e-01, -1.28158900e-02],\n",
       "       [ 1.28983005e+00, -1.17681000e+00,  5.60631528e-01],\n",
       "       [ 8.70038537e-03, -4.75827538e-01,  1.85507734e-01],\n",
       "       [-2.21520621e+00,  2.57452724e+00,  4.60554603e-02],\n",
       "       [ 1.95580711e+00,  9.71202120e-01, -4.08428975e-01],\n",
       "       [-2.11151305e+00, -5.25711071e-01, -2.56202400e-01]])"
      ]
     },
     "execution_count": 37,
     "metadata": {},
     "output_type": "execute_result"
    }
   ],
   "source": [
    "X_train1"
   ]
  },
  {
   "cell_type": "code",
   "execution_count": 38,
   "metadata": {},
   "outputs": [],
   "source": [
    "# Fitting SVC to the Training set\n",
    "from sklearn.svm import SVC\n",
    "\n",
    "classifier = SVC(kernel=\"rbf\",gamma=0.1, C=1)\n",
    "\n",
    "classifier.fit(X_train1, Y_train)\n",
    "\n",
    "# Predicting the Test set results\n",
    "Y_pred = classifier.predict(X_test1)\n"
   ]
  },
  {
   "cell_type": "code",
   "execution_count": 39,
   "metadata": {},
   "outputs": [
    {
     "name": "stdout",
     "output_type": "stream",
     "text": [
      "[[11  0  0]\n",
      " [ 0 15  0]\n",
      " [ 0  0 12]]\n",
      "Classification report: \n",
      "              precision    recall  f1-score   support\n",
      "\n",
      "           0       1.00      1.00      1.00        11\n",
      "           1       1.00      1.00      1.00        15\n",
      "           2       1.00      1.00      1.00        12\n",
      "\n",
      "    accuracy                           1.00        38\n",
      "   macro avg       1.00      1.00      1.00        38\n",
      "weighted avg       1.00      1.00      1.00        38\n",
      "\n",
      "Accuracy of the model:  1.0\n"
     ]
    }
   ],
   "source": [
    "from sklearn.metrics import confusion_matrix, accuracy_score, classification_report\n",
    "\n",
    "cfm=confusion_matrix(Y_test,Y_pred)\n",
    "print(cfm)\n",
    "print(\"Classification report: \")\n",
    "print(classification_report(Y_test,Y_pred))\n",
    "\n",
    "acc=accuracy_score(Y_test, Y_pred)\n",
    "print(\"Accuracy of the model: \",acc)"
   ]
  },
  {
   "cell_type": "code",
   "execution_count": null,
   "metadata": {},
   "outputs": [],
   "source": [
    "0.9473684210526"
   ]
  },
  {
   "cell_type": "markdown",
   "metadata": {},
   "source": [
    "## With Three Component "
   ]
  },
  {
   "cell_type": "code",
   "execution_count": 41,
   "metadata": {},
   "outputs": [],
   "source": [
    "# Splitting the dataset into the Training set and Test set\n",
    "from sklearn.model_selection import train_test_split\n",
    "X_train, X_test, Y_train, Y_test = train_test_split(X, Y, test_size = 0.2,\n",
    "                                                    random_state = 10)"
   ]
  },
  {
   "cell_type": "code",
   "execution_count": 42,
   "metadata": {},
   "outputs": [],
   "source": [
    "# Feature Scaling\n",
    "from sklearn.preprocessing import StandardScaler\n",
    "scaler = StandardScaler()\n",
    "X_train = scaler.fit_transform(X_train)\n",
    "X_test = scaler.transform(X_test)"
   ]
  },
  {
   "cell_type": "code",
   "execution_count": 43,
   "metadata": {},
   "outputs": [
    {
     "name": "stdout",
     "output_type": "stream",
     "text": [
      "[0.72908626 0.22643525]\n"
     ]
    }
   ],
   "source": [
    "# Applying PCA\n",
    "from sklearn.decomposition import PCA\n",
    "pca = PCA(n_components = 2) # 3\n",
    "X_train = pca.fit_transform(X_train)\n",
    "X_test = pca.transform(X_test)\n",
    "explained_variance = pca.explained_variance_ratio_\n",
    "print(explained_variance)"
   ]
  },
  {
   "cell_type": "code",
   "execution_count": 44,
   "metadata": {},
   "outputs": [],
   "source": [
    "# Fitting SVC to the Training set\n",
    "from sklearn.svm import SVC\n",
    "classifier = SVC(kernel=\"rbf\",gamma=0.1,C=1)\n",
    "classifier.fit(X_train, Y_train)\n",
    "# Predicting the Test set results\n",
    "Y_pred = classifier.predict(X_test)\n"
   ]
  },
  {
   "cell_type": "code",
   "execution_count": 45,
   "metadata": {
    "scrolled": true
   },
   "outputs": [
    {
     "name": "stdout",
     "output_type": "stream",
     "text": [
      "[[10  0  0]\n",
      " [ 0 10  3]\n",
      " [ 0  0  7]]\n",
      "Classification report: \n",
      "              precision    recall  f1-score   support\n",
      "\n",
      "           0       1.00      1.00      1.00        10\n",
      "           1       1.00      0.77      0.87        13\n",
      "           2       0.70      1.00      0.82         7\n",
      "\n",
      "    accuracy                           0.90        30\n",
      "   macro avg       0.90      0.92      0.90        30\n",
      "weighted avg       0.93      0.90      0.90        30\n",
      "\n",
      "Accuracy of the model:  0.9\n"
     ]
    }
   ],
   "source": [
    "from sklearn.metrics import confusion_matrix, accuracy_score, classification_report\n",
    "\n",
    "cfm=confusion_matrix(Y_test,Y_pred)\n",
    "print(cfm)\n",
    "\n",
    "print(\"Classification report: \")\n",
    "\n",
    "print(classification_report(Y_test,Y_pred))\n",
    "\n",
    "acc=accuracy_score(Y_test, Y_pred)\n",
    "print(\"Accuracy of the model: \",acc)"
   ]
  },
  {
   "cell_type": "markdown",
   "metadata": {},
   "source": [
    "## Visualization "
   ]
  },
  {
   "cell_type": "code",
   "execution_count": 46,
   "metadata": {},
   "outputs": [
    {
     "name": "stderr",
     "output_type": "stream",
     "text": [
      "C:\\Users\\Dev\\AppData\\Local\\Temp\\ipykernel_32784\\3553134492.py:25: UserWarning: *c* argument looks like a single numeric RGB or RGBA sequence, which should be avoided as value-mapping will have precedence in case its length matches with *x* & *y*.  Please use the *color* keyword-argument or provide a 2D array with a single row if you intend to specify the same RGB or RGBA value for all points.\n",
      "  plt.scatter(X_set[y_set == j, 0], X_set[y_set == j, 1],\n"
     ]
    },
    {
     "data": {
      "image/png": "[encoded data removed]",
      "text/plain": [
       "<Figure size 640x480 with 1 Axes>"
      ]
     },
     "metadata": {},
     "output_type": "display_data"
    }
   ],
   "source": [
    "# Visualising the Training set results (https://justpaste.it/4qo19)\n",
    "from matplotlib.colors import ListedColormap\n",
    "\n",
    "X_set, y_set = X_train, Y_train\n",
    "X1, X2 = np.meshgrid(\n",
    "                     np.arange(start = X_set[:, 0].min() - 1, \n",
    "                               stop = X_set[:, 0].max() + 1, \n",
    "                               step = 0.01),\n",
    "                     \n",
    "                     np.arange(start = X_set[:, 1].min() - 1, \n",
    "                               stop = X_set[:, 1].max() + 1, \n",
    "                               step = 0.01))\n",
    "\n",
    "plt.contourf(X1, \n",
    "             X2, \n",
    "             classifier.predict(np.array([X1.ravel(), \n",
    "                                        X2.ravel()]).T).reshape(X1.shape),\n",
    "             alpha = 0.5, \n",
    "             cmap = ListedColormap(('red', 'green', 'blue')))\n",
    "\n",
    "plt.xlim(X1.min(), X1.max())\n",
    "plt.ylim(X2.min(), X2.max())\n",
    "\n",
    "for i, j in enumerate(np.unique(y_set)):\n",
    "    plt.scatter(X_set[y_set == j, 0], X_set[y_set == j, 1],\n",
    "                c = ListedColormap(('red', 'green', 'blue'))(i), label = j)\n",
    "    \n",
    "plt.title('SVM (Training set)')\n",
    "plt.xlabel('PC1')\n",
    "plt.ylabel('PC2')\n",
    "plt.legend()\n",
    "plt.show()\n"
   ]
  },
  {
   "cell_type": "code",
   "execution_count": 47,
   "metadata": {},
   "outputs": [
    {
     "name": "stderr",
     "output_type": "stream",
     "text": [
      "C:\\Users\\Dev\\AppData\\Local\\Temp\\ipykernel_32784\\2011957198.py:11: UserWarning: *c* argument looks like a single numeric RGB or RGBA sequence, which should be avoided as value-mapping will have precedence in case its length matches with *x* & *y*.  Please use the *color* keyword-argument or provide a 2D array with a single row if you intend to specify the same RGB or RGBA value for all points.\n",
      "  plt.scatter(X_set[y_set == j, 0], X_set[y_set == j, 1],\n"
     ]
    },
    {
     "data": {
      "image/png": "[encoded data removed]",
      "text/plain": [
       "<Figure size 640x480 with 1 Axes>"
      ]
     },
     "metadata": {},
     "output_type": "display_data"
    }
   ],
   "source": [
    "# Visualising the Test set results\n",
    "from matplotlib.colors import ListedColormap\n",
    "X_set, y_set = X_test, Y_test\n",
    "X1, X2 = np.meshgrid(np.arange(start = X_set[:, 0].min() - 1, stop = X_set[:, 0].max() + 1, step = 0.01),\n",
    "                     np.arange(start = X_set[:, 1].min() - 1, stop = X_set[:, 1].max() + 1, step = 0.01))\n",
    "plt.contourf(X1, X2, classifier.predict(np.array([X1.ravel(), X2.ravel()]).T).reshape(X1.shape),\n",
    "             alpha = 0.5, cmap = ListedColormap(('red', 'green', 'blue')))\n",
    "plt.xlim(X1.min(), X1.max())\n",
    "plt.ylim(X2.min(), X2.max())\n",
    "for i, j in enumerate(np.unique(y_set)):\n",
    "    plt.scatter(X_set[y_set == j, 0], X_set[y_set == j, 1],\n",
    "                c = ListedColormap(('red', 'green', 'blue'))(i), label = j)\n",
    "plt.title('SVM (Test set)')\n",
    "plt.xlabel('PC1')\n",
    "plt.ylabel('PC2')\n",
    "plt.legend()\n",
    "plt.show()"
   ]
  },
  {
   "cell_type": "code",
   "execution_count": null,
   "metadata": {},
   "outputs": [],
   "source": []
  },
  {
   "cell_type": "code",
   "execution_count": null,
   "metadata": {},
   "outputs": [],
   "source": []
  },
  {
   "cell_type": "code",
   "execution_count": null,
   "metadata": {},
   "outputs": [],
   "source": []
  },
  {
   "cell_type": "markdown",
   "metadata": {},
   "source": [
    "# Different Dataset"
   ]
  },
  {
   "cell_type": "code",
   "execution_count": 48,
   "metadata": {},
   "outputs": [],
   "source": [
    "# Importing the libraries\n",
    "import numpy as np\n",
    "import matplotlib.pyplot as plt\n",
    "import pandas as pd\n"
   ]
  },
  {
   "cell_type": "code",
   "execution_count": 49,
   "metadata": {},
   "outputs": [
    {
     "data": {
      "text/html": [
       "<div>\n",
       "<style scoped>\n",
       "    .dataframe tbody tr th:only-of-type {\n",
       "        vertical-align: middle;\n",
       "    }\n",
       "\n",
       "    .dataframe tbody tr th {\n",
       "        vertical-align: top;\n",
       "    }\n",
       "\n",
       "    .dataframe thead th {\n",
       "        text-align: right;\n",
       "    }\n",
       "</style>\n",
       "<table border=\"1\" class=\"dataframe\">\n",
       "  <thead>\n",
       "    <tr style=\"text-align: right;\">\n",
       "      <th></th>\n",
       "      <th>age</th>\n",
       "      <th>workclass</th>\n",
       "      <th>fnlwgt</th>\n",
       "      <th>education</th>\n",
       "      <th>education_num</th>\n",
       "      <th>marital_status</th>\n",
       "      <th>occupation</th>\n",
       "      <th>relationship</th>\n",
       "      <th>race</th>\n",
       "      <th>sex</th>\n",
       "      <th>capital_gain</th>\n",
       "      <th>capital_loss</th>\n",
       "      <th>hours_per_week</th>\n",
       "      <th>native_country</th>\n",
       "      <th>income</th>\n",
       "    </tr>\n",
       "  </thead>\n",
       "  <tbody>\n",
       "    <tr>\n",
       "      <th>0</th>\n",
       "      <td>39</td>\n",
       "      <td>6</td>\n",
       "      <td>77516</td>\n",
       "      <td>9</td>\n",
       "      <td>13</td>\n",
       "      <td>4</td>\n",
       "      <td>0</td>\n",
       "      <td>1</td>\n",
       "      <td>4</td>\n",
       "      <td>1</td>\n",
       "      <td>2174</td>\n",
       "      <td>0</td>\n",
       "      <td>40</td>\n",
       "      <td>38</td>\n",
       "      <td>0</td>\n",
       "    </tr>\n",
       "    <tr>\n",
       "      <th>1</th>\n",
       "      <td>50</td>\n",
       "      <td>5</td>\n",
       "      <td>83311</td>\n",
       "      <td>9</td>\n",
       "      <td>13</td>\n",
       "      <td>2</td>\n",
       "      <td>3</td>\n",
       "      <td>0</td>\n",
       "      <td>4</td>\n",
       "      <td>1</td>\n",
       "      <td>0</td>\n",
       "      <td>0</td>\n",
       "      <td>13</td>\n",
       "      <td>38</td>\n",
       "      <td>0</td>\n",
       "    </tr>\n",
       "    <tr>\n",
       "      <th>2</th>\n",
       "      <td>38</td>\n",
       "      <td>3</td>\n",
       "      <td>215646</td>\n",
       "      <td>11</td>\n",
       "      <td>9</td>\n",
       "      <td>0</td>\n",
       "      <td>5</td>\n",
       "      <td>1</td>\n",
       "      <td>4</td>\n",
       "      <td>1</td>\n",
       "      <td>0</td>\n",
       "      <td>0</td>\n",
       "      <td>40</td>\n",
       "      <td>38</td>\n",
       "      <td>0</td>\n",
       "    </tr>\n",
       "    <tr>\n",
       "      <th>3</th>\n",
       "      <td>53</td>\n",
       "      <td>3</td>\n",
       "      <td>234721</td>\n",
       "      <td>1</td>\n",
       "      <td>7</td>\n",
       "      <td>2</td>\n",
       "      <td>5</td>\n",
       "      <td>0</td>\n",
       "      <td>2</td>\n",
       "      <td>1</td>\n",
       "      <td>0</td>\n",
       "      <td>0</td>\n",
       "      <td>40</td>\n",
       "      <td>38</td>\n",
       "      <td>0</td>\n",
       "    </tr>\n",
       "    <tr>\n",
       "      <th>4</th>\n",
       "      <td>28</td>\n",
       "      <td>3</td>\n",
       "      <td>338409</td>\n",
       "      <td>9</td>\n",
       "      <td>13</td>\n",
       "      <td>2</td>\n",
       "      <td>9</td>\n",
       "      <td>5</td>\n",
       "      <td>2</td>\n",
       "      <td>0</td>\n",
       "      <td>0</td>\n",
       "      <td>0</td>\n",
       "      <td>40</td>\n",
       "      <td>4</td>\n",
       "      <td>0</td>\n",
       "    </tr>\n",
       "  </tbody>\n",
       "</table>\n",
       "</div>"
      ],
      "text/plain": [
       "   age  workclass  fnlwgt  education  education_num  marital_status  \\\n",
       "0   39          6   77516          9             13               4   \n",
       "1   50          5   83311          9             13               2   \n",
       "2   38          3  215646         11              9               0   \n",
       "3   53          3  234721          1              7               2   \n",
       "4   28          3  338409          9             13               2   \n",
       "\n",
       "   occupation  relationship  race  sex  capital_gain  capital_loss  \\\n",
       "0           0             1     4    1          2174             0   \n",
       "1           3             0     4    1             0             0   \n",
       "2           5             1     4    1             0             0   \n",
       "3           5             0     2    1             0             0   \n",
       "4           9             5     2    0             0             0   \n",
       "\n",
       "   hours_per_week  native_country  income  \n",
       "0              40              38       0  \n",
       "1              13              38       0  \n",
       "2              40              38       0  \n",
       "3              40              38       0  \n",
       "4              40               4       0  "
      ]
     },
     "execution_count": 49,
     "metadata": {},
     "output_type": "execute_result"
    }
   ],
   "source": [
    "df=pd.read_csv(\"Processed_adult.csv\", index_col=0,header=0)\n",
    "df.head()"
   ]
  },
  {
   "cell_type": "code",
   "execution_count": 50,
   "metadata": {
    "collapsed": true
   },
   "outputs": [
    {
     "data": {
      "text/plain": [
       "(32561, 15)"
      ]
     },
     "execution_count": 50,
     "metadata": {},
     "output_type": "execute_result"
    }
   ],
   "source": [
    "df.shape"
   ]
  },
  {
   "cell_type": "code",
   "execution_count": 51,
   "metadata": {},
   "outputs": [],
   "source": [
    "X=df.values[:,:-1]\n",
    "Y=df.values[:,-1]"
   ]
  },
  {
   "cell_type": "code",
   "execution_count": 52,
   "metadata": {},
   "outputs": [],
   "source": [
    "# Splitting the dataset into the Training set and Test set\n",
    "from sklearn.model_selection import train_test_split\n",
    "X_train, X_test, Y_train, Y_test = train_test_split(X, Y, test_size = 0.3, random_state = 10)\n"
   ]
  },
  {
   "cell_type": "code",
   "execution_count": 53,
   "metadata": {},
   "outputs": [],
   "source": [
    "# Feature Scaling\n",
    "from sklearn.preprocessing import StandardScaler\n",
    "scaler = StandardScaler()\n",
    "X_train = scaler.fit_transform(X_train)\n",
    "X_test = scaler.transform(X_test)\n"
   ]
  },
  {
   "cell_type": "code",
   "execution_count": 54,
   "metadata": {},
   "outputs": [
    {
     "data": {
      "text/plain": [
       "(32561, 15)"
      ]
     },
     "execution_count": 54,
     "metadata": {},
     "output_type": "execute_result"
    }
   ],
   "source": [
    "df.shape"
   ]
  },
  {
   "cell_type": "code",
   "execution_count": 59,
   "metadata": {},
   "outputs": [
    {
     "name": "stdout",
     "output_type": "stream",
     "text": [
      "[0.14822853 0.10132163 0.08087826 0.07791618 0.07439686 0.07293743\n",
      " 0.07010901 0.06793779 0.06479797 0.06152477]\n",
      "10\n",
      "Total Variance: 0.8200484315148535 on 0.8 Features \n"
     ]
    }
   ],
   "source": [
    "# Applying PCA\n",
    "from sklearn.decomposition import PCA\n",
    "N =  0.80  # None , 1, 2, 3 ...\n",
    "pca = PCA(n_components = N )\n",
    "X_train1 = pca.fit_transform(X_train)\n",
    "X_test1 = pca.transform(X_test)\n",
    "explained_variance = pca.explained_variance_ratio_\n",
    "print(explained_variance)\n",
    "print(len(explained_variance))\n",
    "print(\"Total Variance: {} on {} Features \".format(sum(explained_variance), N))"
   ]
  },
  {
   "cell_type": "code",
   "execution_count": null,
   "metadata": {},
   "outputs": [],
   "source": [
    "# Applying PCA\n",
    "from sklearn.decomposition import PCA\n",
    "pca = PCA(n_components = 0.97)\n",
    "X_train2 = pca.fit_transform(X_train)\n",
    "X_test2 = pca.transform(X_test)\n",
    "explained_variance = pca.explained_variance_ratio_\n",
    "print(explained_variance)"
   ]
  },
  {
   "cell_type": "code",
   "execution_count": null,
   "metadata": {},
   "outputs": [],
   "source": [
    "pca.n_components_"
   ]
  },
  {
   "cell_type": "code",
   "execution_count": null,
   "metadata": {},
   "outputs": [],
   "source": [
    "from sklearn.linear_model import LogisticRegression\n",
    "#create a model\n",
    "classifier=LogisticRegression()\n",
    "#fitting training data to the model\n",
    "classifier.fit(X_train2,Y_train)\n",
    "\n",
    "Y_pred=classifier.predict(X_test2)\n"
   ]
  },
  {
   "cell_type": "code",
   "execution_count": null,
   "metadata": {
    "scrolled": true
   },
   "outputs": [],
   "source": [
    "from sklearn.metrics import confusion_matrix, accuracy_score, classification_report\n",
    "\n",
    "cfm=confusion_matrix(Y_test,Y_pred)\n",
    "print(cfm)\n",
    "\n",
    "print(\"Classification report: \")\n",
    "\n",
    "print(classification_report(Y_test,Y_pred))\n",
    "\n",
    "acc=accuracy_score(Y_test, Y_pred)\n",
    "print(\"Accuracy of the model: \",acc)"
   ]
  },
  {
   "cell_type": "code",
   "execution_count": null,
   "metadata": {},
   "outputs": [],
   "source": [
    "#14 Vars-->82.27%\n",
    "#12 vars-->82.38%\n",
    "#9 vars-->82.16\n"
   ]
  },
  {
   "cell_type": "code",
   "execution_count": null,
   "metadata": {},
   "outputs": [],
   "source": []
  },
  {
   "cell_type": "code",
   "execution_count": null,
   "metadata": {},
   "outputs": [],
   "source": []
  },
  {
   "cell_type": "code",
   "execution_count": null,
   "metadata": {},
   "outputs": [],
   "source": []
  },
  {
   "cell_type": "code",
   "execution_count": null,
   "metadata": {},
   "outputs": [],
   "source": [
    "# Splitting the dataset into the Training set and Test set\n",
    "from sklearn.model_selection import train_test_split\n",
    "X_train, X_test, Y_train, Y_test = train_test_split(X, Y, test_size = 0.3, random_state = 10)\n"
   ]
  },
  {
   "cell_type": "code",
   "execution_count": null,
   "metadata": {},
   "outputs": [],
   "source": [
    "# Feature Scaling\n",
    "from sklearn.preprocessing import StandardScaler\n",
    "scaler = StandardScaler()\n",
    "X_train = scaler.fit_transform(X_train)\n",
    "X_test = scaler.transform(X_test)\n"
   ]
  },
  {
   "cell_type": "code",
   "execution_count": null,
   "metadata": {},
   "outputs": [],
   "source": []
  },
  {
   "cell_type": "code",
   "execution_count": null,
   "metadata": {},
   "outputs": [],
   "source": [
    "# Applying PCA\n",
    "from sklearn.decomposition import PCA\n",
    "pca = PCA(n_components = 2)\n",
    "X_train = pca.fit_transform(X_train)\n",
    "X_test = pca.transform(X_test)\n",
    "explained_variance = pca.explained_variance_ratio_\n",
    "print(explained_variance)"
   ]
  },
  {
   "cell_type": "code",
   "execution_count": null,
   "metadata": {},
   "outputs": [],
   "source": [
    "from sklearn.linear_model import LogisticRegression\n",
    "#create a model\n",
    "classifier=LogisticRegression()\n",
    "#fitting training data to the model\n",
    "classifier.fit(X_train,Y_train)\n",
    "\n",
    "Y_pred=classifier.predict(X_test)\n"
   ]
  },
  {
   "cell_type": "code",
   "execution_count": null,
   "metadata": {},
   "outputs": [],
   "source": [
    "# Visualising the Test set results\n",
    "from matplotlib.colors import ListedColormap\n",
    "X_set, y_set = X_test, Y_test\n",
    "X1, X2 = np.meshgrid(np.arange(start = X_set[:, 0].min() - 1, stop = X_set[:, 0].max() + 1, step = 0.01),\n",
    "                     np.arange(start = X_set[:, 1].min() - 1, stop = X_set[:, 1].max() + 1, step = 0.01))\n",
    "plt.contourf(X1, X2, classifier.predict(np.array([X1.ravel(), X2.ravel()]).T).reshape(X1.shape),\n",
    "             alpha = 0.5, cmap = ListedColormap(('red', 'blue')))\n",
    "plt.xlim(X1.min(), X1.max())\n",
    "plt.ylim(X2.min(), X2.max())\n",
    "for i, j in enumerate(np.unique(y_set)):\n",
    "    plt.scatter(X_set[y_set == j, 0], X_set[y_set == j, 1],\n",
    "                c = ListedColormap(('red', 'blue'))(i), label = j)\n",
    "plt.title('LR (Test set)')\n",
    "plt.xlabel('PC1')\n",
    "plt.ylabel('PC2')\n",
    "plt.legend()\n",
    "plt.show()"
   ]
  },
  {
   "cell_type": "code",
   "execution_count": null,
   "metadata": {},
   "outputs": [],
   "source": []
  }
 ],
 "metadata": {
  "kernelspec": {
   "display_name": "Python 3 (ipykernel)",
   "language": "python",
   "name": "python3"
  },
  "language_info": {
   "codemirror_mode": {
    "name": "ipython",
    "version": 3
   },
   "file_extension": ".py",
   "mimetype": "text/x-python",
   "name": "python",
   "nbconvert_exporter": "python",
   "pygments_lexer": "ipython3",
   "version": "3.11.5"
  }
 },
 "nbformat": 4,
 "nbformat_minor": 2
}
